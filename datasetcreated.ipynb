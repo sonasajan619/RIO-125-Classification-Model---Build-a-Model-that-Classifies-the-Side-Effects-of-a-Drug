{
 "cells": [
  {
   "cell_type": "code",
   "execution_count": 1,
   "id": "environmental-programming",
   "metadata": {},
   "outputs": [],
   "source": [
    "from faker import Faker\n",
    "import numpy as np\n",
    "import pandas as pd\n",
    "from random import choice, sample\n",
    "import matplotlib.pyplot as plt\n",
    "import seaborn as sns\n",
    "%matplotlib inline"
   ]
  },
  {
   "cell_type": "code",
   "execution_count": 2,
   "id": "exempt-legend",
   "metadata": {},
   "outputs": [],
   "source": [
    "df1 = Faker()"
   ]
  },
  {
   "cell_type": "code",
   "execution_count": 3,
   "id": "likely-mauritius",
   "metadata": {},
   "outputs": [],
   "source": [
    "def create_names(n):\n",
    "   name = []\n",
    "   for _ in range(0, n):\n",
    "        name.append(df1.name())\n",
    "   return name"
   ]
  },
  {
   "cell_type": "code",
   "execution_count": 4,
   "id": "scenic-batch",
   "metadata": {},
   "outputs": [],
   "source": [
    "name = create_names(400000)"
   ]
  },
  {
   "cell_type": "code",
   "execution_count": 5,
   "id": "broken-comparative",
   "metadata": {},
   "outputs": [],
   "source": [
    "patient_id = np.random.randint(1, 400000, size = 400000, dtype = 'int')\n"
   ]
  },
  {
   "cell_type": "code",
   "execution_count": 6,
   "id": "fifteen-membership",
   "metadata": {},
   "outputs": [],
   "source": [
    "df2 = pd.DataFrame(list(zip(patient_id,name,)),\n",
    "                   columns = [ 'patient_id','name'])"
   ]
  },
  {
   "cell_type": "code",
   "execution_count": 7,
   "id": "coral-horizon",
   "metadata": {},
   "outputs": [
    {
     "data": {
      "text/html": [
       "<div>\n",
       "<style scoped>\n",
       "    .dataframe tbody tr th:only-of-type {\n",
       "        vertical-align: middle;\n",
       "    }\n",
       "\n",
       "    .dataframe tbody tr th {\n",
       "        vertical-align: top;\n",
       "    }\n",
       "\n",
       "    .dataframe thead th {\n",
       "        text-align: right;\n",
       "    }\n",
       "</style>\n",
       "<table border=\"1\" class=\"dataframe\">\n",
       "  <thead>\n",
       "    <tr style=\"text-align: right;\">\n",
       "      <th></th>\n",
       "      <th>patient_id</th>\n",
       "      <th>name</th>\n",
       "    </tr>\n",
       "  </thead>\n",
       "  <tbody>\n",
       "    <tr>\n",
       "      <th>0</th>\n",
       "      <td>331808</td>\n",
       "      <td>David Chang</td>\n",
       "    </tr>\n",
       "    <tr>\n",
       "      <th>1</th>\n",
       "      <td>134912</td>\n",
       "      <td>Taylor Williams</td>\n",
       "    </tr>\n",
       "    <tr>\n",
       "      <th>2</th>\n",
       "      <td>29096</td>\n",
       "      <td>Kevin Duffy</td>\n",
       "    </tr>\n",
       "    <tr>\n",
       "      <th>3</th>\n",
       "      <td>37395</td>\n",
       "      <td>Christina Harper</td>\n",
       "    </tr>\n",
       "    <tr>\n",
       "      <th>4</th>\n",
       "      <td>12009</td>\n",
       "      <td>Paula Simon</td>\n",
       "    </tr>\n",
       "  </tbody>\n",
       "</table>\n",
       "</div>"
      ],
      "text/plain": [
       "   patient_id              name\n",
       "0      331808       David Chang\n",
       "1      134912   Taylor Williams\n",
       "2       29096       Kevin Duffy\n",
       "3       37395  Christina Harper\n",
       "4       12009       Paula Simon"
      ]
     },
     "execution_count": 7,
     "metadata": {},
     "output_type": "execute_result"
    }
   ],
   "source": [
    "df2.head()"
   ]
  },
  {
   "cell_type": "code",
   "execution_count": 8,
   "id": "australian-duration",
   "metadata": {},
   "outputs": [],
   "source": [
    "import numpy as np\n",
    "def weighted_cartesian_choice(*iterables):\n",
    "    \n",
    "   # An arbitrary number of tuple or lists,each consisting of population and weights.weighted_cartesian_choice returns a list \n",
    "    #with a chocie from each population\n",
    "    \n",
    "    res = []\n",
    "    for population, weights in iterables:\n",
    "     #normalize weight:\n",
    "        weights = np.array(weights) / sum(weights)\n",
    "        lst = np.random.choice(population, p=weights)\n",
    "        res.append(lst)\n",
    "    return res\n",
    "\n",
    "gender = (['male','female'], \n",
    "          [0.3, 0.7])\n",
    "\n",
    "age = (['0-10','10-20','20-30','30-40','40-50','50-60','60-70','70-80','80-90','90-100'], \n",
    "       [.08,.05,.07,.18,.05,.16,.06,.19,.07,.09])\n",
    "race = (['White','Hispanic', 'Black','Asian'], \n",
    "        [.32,.28,.22,.18])\n",
    "side_effects = (['No Side Effects', 'Mild Side Effects', 'Moderate Side Effects', 'Severe Side Effects', 'Extremely Severe Side Effects'], \n",
    "               [.12,.20,.28,.22,.18])\n",
    "\n",
    "list=[]\n",
    "for i in range(400000):\n",
    "    res = weighted_cartesian_choice(gender,\n",
    "                                    age,\n",
    "                                    race,\n",
    "                                    side_effects)\n",
    "    list.append(res)"
   ]
  },
  {
   "cell_type": "code",
   "execution_count": 9,
   "id": "naughty-bikini",
   "metadata": {},
   "outputs": [],
   "source": [
    "newdata=pd.DataFrame(list, columns = ['gender','age','race','side_effects'])"
   ]
  },
  {
   "cell_type": "code",
   "execution_count": 10,
   "id": "uniform-contractor",
   "metadata": {},
   "outputs": [
    {
     "data": {
      "text/html": [
       "<div>\n",
       "<style scoped>\n",
       "    .dataframe tbody tr th:only-of-type {\n",
       "        vertical-align: middle;\n",
       "    }\n",
       "\n",
       "    .dataframe tbody tr th {\n",
       "        vertical-align: top;\n",
       "    }\n",
       "\n",
       "    .dataframe thead th {\n",
       "        text-align: right;\n",
       "    }\n",
       "</style>\n",
       "<table border=\"1\" class=\"dataframe\">\n",
       "  <thead>\n",
       "    <tr style=\"text-align: right;\">\n",
       "      <th></th>\n",
       "      <th>gender</th>\n",
       "      <th>age</th>\n",
       "      <th>race</th>\n",
       "      <th>side_effects</th>\n",
       "    </tr>\n",
       "  </thead>\n",
       "  <tbody>\n",
       "    <tr>\n",
       "      <th>0</th>\n",
       "      <td>female</td>\n",
       "      <td>30-40</td>\n",
       "      <td>Hispanic</td>\n",
       "      <td>Mild Side Effects</td>\n",
       "    </tr>\n",
       "    <tr>\n",
       "      <th>1</th>\n",
       "      <td>female</td>\n",
       "      <td>0-10</td>\n",
       "      <td>Hispanic</td>\n",
       "      <td>Mild Side Effects</td>\n",
       "    </tr>\n",
       "    <tr>\n",
       "      <th>2</th>\n",
       "      <td>female</td>\n",
       "      <td>20-30</td>\n",
       "      <td>Black</td>\n",
       "      <td>Moderate Side Effects</td>\n",
       "    </tr>\n",
       "    <tr>\n",
       "      <th>3</th>\n",
       "      <td>male</td>\n",
       "      <td>90-100</td>\n",
       "      <td>Hispanic</td>\n",
       "      <td>Moderate Side Effects</td>\n",
       "    </tr>\n",
       "    <tr>\n",
       "      <th>4</th>\n",
       "      <td>female</td>\n",
       "      <td>30-40</td>\n",
       "      <td>Asian</td>\n",
       "      <td>Severe Side Effects</td>\n",
       "    </tr>\n",
       "  </tbody>\n",
       "</table>\n",
       "</div>"
      ],
      "text/plain": [
       "   gender     age      race           side_effects\n",
       "0  female   30-40  Hispanic      Mild Side Effects\n",
       "1  female    0-10  Hispanic      Mild Side Effects\n",
       "2  female   20-30     Black  Moderate Side Effects\n",
       "3    male  90-100  Hispanic  Moderate Side Effects\n",
       "4  female   30-40     Asian    Severe Side Effects"
      ]
     },
     "execution_count": 10,
     "metadata": {},
     "output_type": "execute_result"
    }
   ],
   "source": [
    "newdata.head()"
   ]
  },
  {
   "cell_type": "code",
   "execution_count": 11,
   "id": "worldwide-input",
   "metadata": {},
   "outputs": [],
   "source": [
    "data = pd.concat([df2, newdata], axis=1).reindex(newdata.index)"
   ]
  },
  {
   "cell_type": "code",
   "execution_count": null,
   "id": "super-arctic",
   "metadata": {},
   "outputs": [],
   "source": [
    "new_dataset = data.to_csv(\"dataset\".csv\",index=False)"
   ]
  }
 ],
 "metadata": {
  "kernelspec": {
   "display_name": "Python 3",
   "language": "python",
   "name": "python3"
  },
  "language_info": {
   "codemirror_mode": {
    "name": "ipython",
    "version": 3
   },
   "file_extension": ".py",
   "mimetype": "text/x-python",
   "name": "python",
   "nbconvert_exporter": "python",
   "pygments_lexer": "ipython3",
   "version": "3.8.5"
  }
 },
 "nbformat": 4,
 "nbformat_minor": 5
}
