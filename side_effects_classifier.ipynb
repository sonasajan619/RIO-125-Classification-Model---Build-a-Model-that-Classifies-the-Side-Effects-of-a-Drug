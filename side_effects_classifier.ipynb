{
 "cells": [
  {
   "cell_type": "code",
   "execution_count": null,
   "id": "heavy-symposium",
   "metadata": {},
   "outputs": [],
   "source": [
    "from faker import Faker\n",
    "import numpy as np\n",
    "import pandas as pd\n",
    "from random import choice, sample\n",
    "import matplotlib.pyplot as plt\n",
    "import seaborn as sns\n",
    "%matplotlib inline"
   ]
  },
  {
   "cell_type": "code",
   "execution_count": 11,
   "id": "flexible-words",
   "metadata": {},
   "outputs": [],
   "source": [
    "import warnings\n",
    "warnings.filterwarnings('ignore')"
   ]
  },
  {
   "cell_type": "code",
   "execution_count": 14,
   "id": "joint-glenn",
   "metadata": {},
   "outputs": [],
   "source": [
    "data = pd.read_csv(r\"C:\\Users\\LENOVO\\Desktop\\activity report\\dataset.csv\")"
   ]
  },
  {
   "cell_type": "code",
   "execution_count": 15,
   "id": "descending-winning",
   "metadata": {},
   "outputs": [
    {
     "data": {
      "text/html": [
       "<div>\n",
       "<style scoped>\n",
       "    .dataframe tbody tr th:only-of-type {\n",
       "        vertical-align: middle;\n",
       "    }\n",
       "\n",
       "    .dataframe tbody tr th {\n",
       "        vertical-align: top;\n",
       "    }\n",
       "\n",
       "    .dataframe thead th {\n",
       "        text-align: right;\n",
       "    }\n",
       "</style>\n",
       "<table border=\"1\" class=\"dataframe\">\n",
       "  <thead>\n",
       "    <tr style=\"text-align: right;\">\n",
       "      <th></th>\n",
       "      <th>patient_id</th>\n",
       "      <th>name</th>\n",
       "      <th>gender</th>\n",
       "      <th>age</th>\n",
       "      <th>race</th>\n",
       "      <th>side_effects</th>\n",
       "    </tr>\n",
       "  </thead>\n",
       "  <tbody>\n",
       "    <tr>\n",
       "      <th>0</th>\n",
       "      <td>331808</td>\n",
       "      <td>David Chang</td>\n",
       "      <td>female</td>\n",
       "      <td>30-40</td>\n",
       "      <td>Hispanic</td>\n",
       "      <td>Mild Side Effects</td>\n",
       "    </tr>\n",
       "    <tr>\n",
       "      <th>1</th>\n",
       "      <td>134912</td>\n",
       "      <td>Taylor Williams</td>\n",
       "      <td>female</td>\n",
       "      <td>0-10</td>\n",
       "      <td>Hispanic</td>\n",
       "      <td>Mild Side Effects</td>\n",
       "    </tr>\n",
       "    <tr>\n",
       "      <th>2</th>\n",
       "      <td>29096</td>\n",
       "      <td>Kevin Duffy</td>\n",
       "      <td>female</td>\n",
       "      <td>20-30</td>\n",
       "      <td>Black</td>\n",
       "      <td>Moderate Side Effects</td>\n",
       "    </tr>\n",
       "    <tr>\n",
       "      <th>3</th>\n",
       "      <td>37395</td>\n",
       "      <td>Christina Harper</td>\n",
       "      <td>male</td>\n",
       "      <td>90-100</td>\n",
       "      <td>Hispanic</td>\n",
       "      <td>Moderate Side Effects</td>\n",
       "    </tr>\n",
       "    <tr>\n",
       "      <th>4</th>\n",
       "      <td>12009</td>\n",
       "      <td>Paula Simon</td>\n",
       "      <td>female</td>\n",
       "      <td>30-40</td>\n",
       "      <td>Asian</td>\n",
       "      <td>Severe Side Effects</td>\n",
       "    </tr>\n",
       "  </tbody>\n",
       "</table>\n",
       "</div>"
      ],
      "text/plain": [
       "   patient_id              name  gender     age      race  \\\n",
       "0      331808       David Chang  female   30-40  Hispanic   \n",
       "1      134912   Taylor Williams  female    0-10  Hispanic   \n",
       "2       29096       Kevin Duffy  female   20-30     Black   \n",
       "3       37395  Christina Harper    male  90-100  Hispanic   \n",
       "4       12009       Paula Simon  female   30-40     Asian   \n",
       "\n",
       "            side_effects  \n",
       "0      Mild Side Effects  \n",
       "1      Mild Side Effects  \n",
       "2  Moderate Side Effects  \n",
       "3  Moderate Side Effects  \n",
       "4    Severe Side Effects  "
      ]
     },
     "execution_count": 15,
     "metadata": {},
     "output_type": "execute_result"
    }
   ],
   "source": [
    "data.head()"
   ]
  },
  {
   "cell_type": "code",
   "execution_count": 16,
   "id": "proper-schema",
   "metadata": {},
   "outputs": [
    {
     "data": {
      "text/plain": [
       "(400000, 6)"
      ]
     },
     "execution_count": 16,
     "metadata": {},
     "output_type": "execute_result"
    }
   ],
   "source": [
    "data.shape"
   ]
  },
  {
   "cell_type": "code",
   "execution_count": 17,
   "id": "worst-hospital",
   "metadata": {},
   "outputs": [
    {
     "name": "stdout",
     "output_type": "stream",
     "text": [
      "<class 'pandas.core.frame.DataFrame'>\n",
      "RangeIndex: 400000 entries, 0 to 399999\n",
      "Data columns (total 6 columns):\n",
      " #   Column        Non-Null Count   Dtype \n",
      "---  ------        --------------   ----- \n",
      " 0   patient_id    400000 non-null  int64 \n",
      " 1   name          400000 non-null  object\n",
      " 2   gender        400000 non-null  object\n",
      " 3   age           400000 non-null  object\n",
      " 4   race          400000 non-null  object\n",
      " 5   side_effects  400000 non-null  object\n",
      "dtypes: int64(1), object(5)\n",
      "memory usage: 18.3+ MB\n"
     ]
    }
   ],
   "source": [
    "data.info()"
   ]
  },
  {
   "cell_type": "code",
   "execution_count": 18,
   "id": "periodic-purchase",
   "metadata": {},
   "outputs": [
    {
     "data": {
      "text/plain": [
       "70-80     75855\n",
       "30-40     72095\n",
       "50-60     64070\n",
       "90-100    35925\n",
       "0-10      32003\n",
       "80-90     28269\n",
       "20-30     28087\n",
       "60-70     23767\n",
       "40-50     20019\n",
       "10-20     19910\n",
       "Name: age, dtype: int64"
      ]
     },
     "execution_count": 18,
     "metadata": {},
     "output_type": "execute_result"
    }
   ],
   "source": [
    "data['age'].value_counts()"
   ]
  },
  {
   "cell_type": "code",
   "execution_count": 19,
   "id": "taken-shakespeare",
   "metadata": {},
   "outputs": [
    {
     "data": {
      "text/plain": [
       "female    280164\n",
       "male      119836\n",
       "Name: gender, dtype: int64"
      ]
     },
     "execution_count": 19,
     "metadata": {},
     "output_type": "execute_result"
    }
   ],
   "source": [
    "data['gender'].value_counts()"
   ]
  },
  {
   "cell_type": "code",
   "execution_count": 20,
   "id": "parallel-desire",
   "metadata": {},
   "outputs": [],
   "source": [
    "# The correlation between craeted features is low, so mapping is done for improving accuracy"
   ]
  },
  {
   "cell_type": "code",
   "execution_count": 21,
   "id": "deluxe-attention",
   "metadata": {},
   "outputs": [],
   "source": [
    "data.loc[data['age'] == '0-10', 'age_score'] = '6'  \n",
    "data.loc[data['age'] == '10-20', 'age_score'] = '2' \n",
    "data.loc[data['age'] == '20-30', 'age_score'] = '5'  \n",
    "data.loc[data['age'] == '30-40', 'age_score'] = '9'  \n",
    "data.loc[data['age'] == '40-50', 'age_score'] = '1' \n",
    "data.loc[data['age'] == '50-60', 'age_score'] = '8'  \n",
    "data.loc[data['age'] == '60-70', 'age_score'] = '3'  \n",
    "data.loc[data['age'] == '70-80', 'age_score'] = '10' \n",
    "data.loc[data['age'] == '80-90', 'age_score'] = '4'  \n",
    "data.loc[data['age'] == '90-100', 'age_score'] = '7'"
   ]
  },
  {
   "cell_type": "code",
   "execution_count": 22,
   "id": "liberal-thermal",
   "metadata": {},
   "outputs": [],
   "source": [
    "data.loc[data['side_effects'] == 'Moderate Side Effects', 'sideeffects_score'] = '5'  \n",
    "data.loc[data['side_effects'] == 'Severe Side Effects', 'sideeffects_score'] = '4' \n",
    "data.loc[data['side_effects'] == 'Mild Side Effects', 'sideeffects_score'] = '3'  \n",
    "data.loc[data['side_effects'] == 'Extremely Severe Side Effects', 'sideeffects_score'] = '2'  \n",
    "data.loc[data['side_effects'] == 'No Side Effects', 'sideeffects_score'] = '1'"
   ]
  },
  {
   "cell_type": "code",
   "execution_count": 23,
   "id": "honest-speed",
   "metadata": {},
   "outputs": [],
   "source": [
    "data.loc[data['race'] == 'White', 'race_score'] = '4'  \n",
    "data.loc[data['race'] == 'Hispanic', 'race_score'] = '3' \n",
    "data.loc[data['race'] == 'Black', 'race_score'] = '2'  \n",
    "data.loc[data['race'] == 'Asian', 'race_score'] = '1'"
   ]
  },
  {
   "cell_type": "code",
   "execution_count": 24,
   "id": "outstanding-omaha",
   "metadata": {},
   "outputs": [],
   "source": [
    "data.loc[data['gender'] == 'male', 'gender_score'] = '4'  \n",
    "data.loc[data['gender'] == 'female', 'gender_score'] = '6'"
   ]
  },
  {
   "cell_type": "code",
   "execution_count": 25,
   "id": "consecutive-contractor",
   "metadata": {},
   "outputs": [],
   "source": [
    "data = data.astype({'age_score': 'int','race_score': 'int','sideeffects_score': 'int','gender_score': 'int'})"
   ]
  },
  {
   "cell_type": "code",
   "execution_count": 26,
   "id": "stopped-berlin",
   "metadata": {},
   "outputs": [],
   "source": [
    "data['score']=data['age_score']+data['race_score']+data['sideeffects_score']+data['gender_score']"
   ]
  },
  {
   "cell_type": "code",
   "execution_count": 27,
   "id": "invalid-rapid",
   "metadata": {},
   "outputs": [],
   "source": [
    "data['ranking']=data['score']/2"
   ]
  },
  {
   "cell_type": "code",
   "execution_count": 28,
   "id": "prescribed-dominican",
   "metadata": {},
   "outputs": [
    {
     "data": {
      "image/png": "[encoded data removed]",
      "text/plain": [
       "<Figure size 720x360 with 1 Axes>"
      ]
     },
     "metadata": {
      "needs_background": "light"
     },
     "output_type": "display_data"
    }
   ],
   "source": [
    "count = data['side_effects'].value_counts()\n",
    "plt.figure(figsize=(10,5))\n",
    "sns.barplot(count.index, count.values, alpha=0.8, palette=\"prism\")\n",
    "plt.ylabel('Count', fontsize=12)\n",
    "plt.xlabel('side_effects', fontsize=12)\n",
    "plt.title('Side Effects of A Drug X')\n",
    "plt.show()"
   ]
  },
  {
   "cell_type": "code",
   "execution_count": 29,
   "id": "breathing-placement",
   "metadata": {},
   "outputs": [
    {
     "name": "stdout",
     "output_type": "stream",
     "text": [
      "[127747, 112429, 87869, 71955]\n"
     ]
    },
    {
     "data": {
      "image/png": "[encoded data removed]",
      "text/plain": [
       "<Figure size 720x360 with 1 Axes>"
      ]
     },
     "metadata": {},
     "output_type": "display_data"
    }
   ],
   "source": [
    "# Race types and its values Single Pie chart\n",
    "populations = data['race'].value_counts()\n",
    "pop_size = populations.values.tolist() #Provides numerical values\n",
    "pop_types = populations.axes[0].tolist() #Converts index labels object to list\n",
    "print(pop_size)\n",
    "# Data to plot\n",
    "pop_labels = 'White','Hispanic','Black','Asian'\n",
    "colors = ['#FEB8EA','#99ff99','#F75ECB','#FCE38A']\n",
    "explode = (0, 0.2,0,0)  # explode 1st slice\n",
    "fig = plt.figure(figsize=(10,5))\n",
    "# Plot\n",
    "plt.title('Race Type Percentange', fontsize=22)\n",
    "patches, texts, autotexts = plt.pie(pop_size, explode=explode, labels=pop_labels, colors=colors,\n",
    "        autopct='%1.1f%%', shadow=True, startangle=150)\n",
    "for text,autotext in zip(texts,autotexts):\n",
    "    text.set_fontsize(14)\n",
    "    autotext.set_fontsize(14)\n",
    "\n",
    "plt.axis('equal')\n",
    "plt.show()"
   ]
  },
  {
   "cell_type": "code",
   "execution_count": 30,
   "id": "silver-sport",
   "metadata": {},
   "outputs": [],
   "source": [
    "fe=data.groupby('race').size()/len(data)\n",
    "data.loc[:, 'race_fe']=data['race'].map(fe)"
   ]
  },
  {
   "cell_type": "code",
   "execution_count": 31,
   "id": "psychological-tutorial",
   "metadata": {},
   "outputs": [],
   "source": [
    "fe=data.groupby('gender').size()/len(data)\n",
    "data.loc[:, 'gender_fe']=data['gender'].map(fe)"
   ]
  },
  {
   "cell_type": "code",
   "execution_count": 32,
   "id": "hawaiian-interview",
   "metadata": {},
   "outputs": [],
   "source": [
    "fe=data.groupby('age').size()/len(data)\n",
    "data.loc[:, 'age_fe']=data['age'].map(fe)"
   ]
  },
  {
   "cell_type": "code",
   "execution_count": 33,
   "id": "common-housing",
   "metadata": {},
   "outputs": [
    {
     "data": {
      "text/html": [
       "<div>\n",
       "<style scoped>\n",
       "    .dataframe tbody tr th:only-of-type {\n",
       "        vertical-align: middle;\n",
       "    }\n",
       "\n",
       "    .dataframe tbody tr th {\n",
       "        vertical-align: top;\n",
       "    }\n",
       "\n",
       "    .dataframe thead th {\n",
       "        text-align: right;\n",
       "    }\n",
       "</style>\n",
       "<table border=\"1\" class=\"dataframe\">\n",
       "  <thead>\n",
       "    <tr style=\"text-align: right;\">\n",
       "      <th></th>\n",
       "      <th>name</th>\n",
       "      <th>side_effects</th>\n",
       "      <th>age_score</th>\n",
       "      <th>sideeffects_score</th>\n",
       "      <th>race_score</th>\n",
       "      <th>gender_score</th>\n",
       "      <th>score</th>\n",
       "      <th>ranking</th>\n",
       "      <th>race_fe</th>\n",
       "      <th>gender_fe</th>\n",
       "      <th>age_fe</th>\n",
       "    </tr>\n",
       "  </thead>\n",
       "  <tbody>\n",
       "    <tr>\n",
       "      <th>0</th>\n",
       "      <td>David Chang</td>\n",
       "      <td>Mild Side Effects</td>\n",
       "      <td>9</td>\n",
       "      <td>3</td>\n",
       "      <td>3</td>\n",
       "      <td>6</td>\n",
       "      <td>21</td>\n",
       "      <td>10.5</td>\n",
       "      <td>0.281073</td>\n",
       "      <td>0.70041</td>\n",
       "      <td>0.180237</td>\n",
       "    </tr>\n",
       "    <tr>\n",
       "      <th>1</th>\n",
       "      <td>Taylor Williams</td>\n",
       "      <td>Mild Side Effects</td>\n",
       "      <td>6</td>\n",
       "      <td>3</td>\n",
       "      <td>3</td>\n",
       "      <td>6</td>\n",
       "      <td>18</td>\n",
       "      <td>9.0</td>\n",
       "      <td>0.281073</td>\n",
       "      <td>0.70041</td>\n",
       "      <td>0.080007</td>\n",
       "    </tr>\n",
       "    <tr>\n",
       "      <th>2</th>\n",
       "      <td>Kevin Duffy</td>\n",
       "      <td>Moderate Side Effects</td>\n",
       "      <td>5</td>\n",
       "      <td>5</td>\n",
       "      <td>2</td>\n",
       "      <td>6</td>\n",
       "      <td>18</td>\n",
       "      <td>9.0</td>\n",
       "      <td>0.219672</td>\n",
       "      <td>0.70041</td>\n",
       "      <td>0.070218</td>\n",
       "    </tr>\n",
       "    <tr>\n",
       "      <th>3</th>\n",
       "      <td>Christina Harper</td>\n",
       "      <td>Moderate Side Effects</td>\n",
       "      <td>7</td>\n",
       "      <td>5</td>\n",
       "      <td>3</td>\n",
       "      <td>4</td>\n",
       "      <td>19</td>\n",
       "      <td>9.5</td>\n",
       "      <td>0.281073</td>\n",
       "      <td>0.29959</td>\n",
       "      <td>0.089813</td>\n",
       "    </tr>\n",
       "    <tr>\n",
       "      <th>4</th>\n",
       "      <td>Paula Simon</td>\n",
       "      <td>Severe Side Effects</td>\n",
       "      <td>9</td>\n",
       "      <td>4</td>\n",
       "      <td>1</td>\n",
       "      <td>6</td>\n",
       "      <td>20</td>\n",
       "      <td>10.0</td>\n",
       "      <td>0.179888</td>\n",
       "      <td>0.70041</td>\n",
       "      <td>0.180237</td>\n",
       "    </tr>\n",
       "  </tbody>\n",
       "</table>\n",
       "</div>"
      ],
      "text/plain": [
       "               name           side_effects  age_score  sideeffects_score  \\\n",
       "0       David Chang      Mild Side Effects          9                  3   \n",
       "1   Taylor Williams      Mild Side Effects          6                  3   \n",
       "2       Kevin Duffy  Moderate Side Effects          5                  5   \n",
       "3  Christina Harper  Moderate Side Effects          7                  5   \n",
       "4       Paula Simon    Severe Side Effects          9                  4   \n",
       "\n",
       "   race_score  gender_score  score  ranking   race_fe  gender_fe    age_fe  \n",
       "0           3             6     21     10.5  0.281073    0.70041  0.180237  \n",
       "1           3             6     18      9.0  0.281073    0.70041  0.080007  \n",
       "2           2             6     18      9.0  0.219672    0.70041  0.070218  \n",
       "3           3             4     19      9.5  0.281073    0.29959  0.089813  \n",
       "4           1             6     20     10.0  0.179888    0.70041  0.180237  "
      ]
     },
     "execution_count": 33,
     "metadata": {},
     "output_type": "execute_result"
    }
   ],
   "source": [
    "data=data.drop(['patient_id','race','gender','age'],axis=1)\n",
    "data.head()"
   ]
  },
  {
   "cell_type": "code",
   "execution_count": 34,
   "id": "printable-superior",
   "metadata": {},
   "outputs": [
    {
     "data": {
      "text/html": [
       "<div>\n",
       "<style scoped>\n",
       "    .dataframe tbody tr th:only-of-type {\n",
       "        vertical-align: middle;\n",
       "    }\n",
       "\n",
       "    .dataframe tbody tr th {\n",
       "        vertical-align: top;\n",
       "    }\n",
       "\n",
       "    .dataframe thead th {\n",
       "        text-align: right;\n",
       "    }\n",
       "</style>\n",
       "<table border=\"1\" class=\"dataframe\">\n",
       "  <thead>\n",
       "    <tr style=\"text-align: right;\">\n",
       "      <th></th>\n",
       "      <th>side_effects</th>\n",
       "      <th>ranking</th>\n",
       "      <th>race_fe</th>\n",
       "      <th>gender_fe</th>\n",
       "      <th>age_fe</th>\n",
       "    </tr>\n",
       "  </thead>\n",
       "  <tbody>\n",
       "    <tr>\n",
       "      <th>0</th>\n",
       "      <td>Mild Side Effects</td>\n",
       "      <td>10.5</td>\n",
       "      <td>0.281073</td>\n",
       "      <td>0.70041</td>\n",
       "      <td>0.180237</td>\n",
       "    </tr>\n",
       "    <tr>\n",
       "      <th>1</th>\n",
       "      <td>Mild Side Effects</td>\n",
       "      <td>9.0</td>\n",
       "      <td>0.281073</td>\n",
       "      <td>0.70041</td>\n",
       "      <td>0.080007</td>\n",
       "    </tr>\n",
       "    <tr>\n",
       "      <th>2</th>\n",
       "      <td>Moderate Side Effects</td>\n",
       "      <td>9.0</td>\n",
       "      <td>0.219672</td>\n",
       "      <td>0.70041</td>\n",
       "      <td>0.070218</td>\n",
       "    </tr>\n",
       "    <tr>\n",
       "      <th>3</th>\n",
       "      <td>Moderate Side Effects</td>\n",
       "      <td>9.5</td>\n",
       "      <td>0.281073</td>\n",
       "      <td>0.29959</td>\n",
       "      <td>0.089813</td>\n",
       "    </tr>\n",
       "    <tr>\n",
       "      <th>4</th>\n",
       "      <td>Severe Side Effects</td>\n",
       "      <td>10.0</td>\n",
       "      <td>0.179888</td>\n",
       "      <td>0.70041</td>\n",
       "      <td>0.180237</td>\n",
       "    </tr>\n",
       "  </tbody>\n",
       "</table>\n",
       "</div>"
      ],
      "text/plain": [
       "            side_effects  ranking   race_fe  gender_fe    age_fe\n",
       "0      Mild Side Effects     10.5  0.281073    0.70041  0.180237\n",
       "1      Mild Side Effects      9.0  0.281073    0.70041  0.080007\n",
       "2  Moderate Side Effects      9.0  0.219672    0.70041  0.070218\n",
       "3  Moderate Side Effects      9.5  0.281073    0.29959  0.089813\n",
       "4    Severe Side Effects     10.0  0.179888    0.70041  0.180237"
      ]
     },
     "execution_count": 34,
     "metadata": {},
     "output_type": "execute_result"
    }
   ],
   "source": [
    "data=data.drop(['name','age_score','race_score','sideeffects_score','gender_score', 'score'],axis=1)\n",
    "data.head()"
   ]
  },
  {
   "cell_type": "code",
   "execution_count": 36,
   "id": "tropical-blair",
   "metadata": {},
   "outputs": [
    {
     "name": "stdout",
     "output_type": "stream",
     "text": [
      "0         1\n",
      "1         1\n",
      "2         2\n",
      "3         2\n",
      "4         4\n",
      "         ..\n",
      "399995    4\n",
      "399996    1\n",
      "399997    2\n",
      "399998    0\n",
      "399999    2\n",
      "Name: side_effects, Length: 400000, dtype: int32\n"
     ]
    }
   ],
   "source": [
    "from sklearn.preprocessing import LabelEncoder\n",
    "encoder=LabelEncoder()\n",
    "encoder.fit(data[\"side_effects\"])\n",
    "data[\"side_effects\"]=encoder.transform(data[\"side_effects\"])\n",
    "print(data[\"side_effects\"])"
   ]
  },
  {
   "cell_type": "code",
   "execution_count": 37,
   "id": "coupled-hearing",
   "metadata": {},
   "outputs": [
    {
     "data": {
      "image/png": "[encoded data removed]",
      "text/plain": [
       "<Figure size 576x360 with 2 Axes>"
      ]
     },
     "metadata": {
      "needs_background": "light"
     },
     "output_type": "display_data"
    }
   ],
   "source": [
    "corrmatrix=data.corr()\n",
    "plt.subplots(figsize=(8,5))\n",
    "sns.heatmap(data.corr(),linewidths=.1,cmap=\"YlGnBu\", annot=True)\n",
    "plt.yticks(rotation=0);"
   ]
  },
  {
   "cell_type": "code",
   "execution_count": 38,
   "id": "assisted-buffalo",
   "metadata": {},
   "outputs": [
    {
     "data": {
      "text/html": [
       "<div>\n",
       "<style scoped>\n",
       "    .dataframe tbody tr th:only-of-type {\n",
       "        vertical-align: middle;\n",
       "    }\n",
       "\n",
       "    .dataframe tbody tr th {\n",
       "        vertical-align: top;\n",
       "    }\n",
       "\n",
       "    .dataframe thead th {\n",
       "        text-align: right;\n",
       "    }\n",
       "</style>\n",
       "<table border=\"1\" class=\"dataframe\">\n",
       "  <thead>\n",
       "    <tr style=\"text-align: right;\">\n",
       "      <th></th>\n",
       "      <th>ranking</th>\n",
       "      <th>race_fe</th>\n",
       "      <th>gender_fe</th>\n",
       "      <th>age_fe</th>\n",
       "    </tr>\n",
       "  </thead>\n",
       "  <tbody>\n",
       "    <tr>\n",
       "      <th>0</th>\n",
       "      <td>10.5</td>\n",
       "      <td>0.281073</td>\n",
       "      <td>0.70041</td>\n",
       "      <td>0.180237</td>\n",
       "    </tr>\n",
       "    <tr>\n",
       "      <th>1</th>\n",
       "      <td>9.0</td>\n",
       "      <td>0.281073</td>\n",
       "      <td>0.70041</td>\n",
       "      <td>0.080007</td>\n",
       "    </tr>\n",
       "    <tr>\n",
       "      <th>2</th>\n",
       "      <td>9.0</td>\n",
       "      <td>0.219672</td>\n",
       "      <td>0.70041</td>\n",
       "      <td>0.070218</td>\n",
       "    </tr>\n",
       "    <tr>\n",
       "      <th>3</th>\n",
       "      <td>9.5</td>\n",
       "      <td>0.281073</td>\n",
       "      <td>0.29959</td>\n",
       "      <td>0.089813</td>\n",
       "    </tr>\n",
       "    <tr>\n",
       "      <th>4</th>\n",
       "      <td>10.0</td>\n",
       "      <td>0.179888</td>\n",
       "      <td>0.70041</td>\n",
       "      <td>0.180237</td>\n",
       "    </tr>\n",
       "  </tbody>\n",
       "</table>\n",
       "</div>"
      ],
      "text/plain": [
       "   ranking   race_fe  gender_fe    age_fe\n",
       "0     10.5  0.281073    0.70041  0.180237\n",
       "1      9.0  0.281073    0.70041  0.080007\n",
       "2      9.0  0.219672    0.70041  0.070218\n",
       "3      9.5  0.281073    0.29959  0.089813\n",
       "4     10.0  0.179888    0.70041  0.180237"
      ]
     },
     "execution_count": 38,
     "metadata": {},
     "output_type": "execute_result"
    }
   ],
   "source": [
    "x=data.drop('side_effects',axis=1)\n",
    "y=data['side_effects'] \n",
    "x.head()"
   ]
  },
  {
   "cell_type": "code",
   "execution_count": 39,
   "id": "smooth-combine",
   "metadata": {},
   "outputs": [
    {
     "data": {
      "text/plain": [
       "ranking      float64\n",
       "race_fe      float64\n",
       "gender_fe    float64\n",
       "age_fe       float64\n",
       "dtype: object"
      ]
     },
     "execution_count": 39,
     "metadata": {},
     "output_type": "execute_result"
    }
   ],
   "source": [
    "x.dtypes"
   ]
  },
  {
   "cell_type": "code",
   "execution_count": 40,
   "id": "international-animation",
   "metadata": {},
   "outputs": [],
   "source": [
    "from sklearn.model_selection import train_test_split\n",
    "x_train, x_test, y_train, y_test = train_test_split(x, y, test_size=0.35, random_state=42)"
   ]
  },
  {
   "cell_type": "code",
   "execution_count": 41,
   "id": "alternate-month",
   "metadata": {},
   "outputs": [
    {
     "data": {
      "text/plain": [
       "(400000, 4)"
      ]
     },
     "execution_count": 41,
     "metadata": {},
     "output_type": "execute_result"
    }
   ],
   "source": [
    "x.shape"
   ]
  },
  {
   "cell_type": "code",
   "execution_count": 42,
   "id": "cleared-motion",
   "metadata": {},
   "outputs": [],
   "source": [
    "from sklearn.metrics import confusion_matrix, accuracy_score,precision_score,recall_score,f1_score"
   ]
  },
  {
   "cell_type": "code",
   "execution_count": 43,
   "id": "functioning-ballet",
   "metadata": {},
   "outputs": [],
   "source": [
    "from sklearn.linear_model import LogisticRegression\n",
    "logit_model = LogisticRegression()\n",
    "logit_model.fit(x_train, y_train)\n",
    "y_predlr = logit_model.predict(x_test)"
   ]
  },
  {
   "cell_type": "code",
   "execution_count": 44,
   "id": "sound-advertising",
   "metadata": {},
   "outputs": [
    {
     "name": "stdout",
     "output_type": "stream",
     "text": [
      "0.58095\n"
     ]
    }
   ],
   "source": [
    "print(accuracy_score(y_test,y_predlr))"
   ]
  },
  {
   "cell_type": "code",
   "execution_count": 45,
   "id": "forward-trust",
   "metadata": {},
   "outputs": [
    {
     "name": "stdout",
     "output_type": "stream",
     "text": [
      "Weighted f1 score:0.57\n"
     ]
    }
   ],
   "source": [
    "print('Weighted f1 score:{:.2f}'.format(f1_score(y_test,y_predlr,average='weighted')))"
   ]
  },
  {
   "cell_type": "code",
   "execution_count": 46,
   "id": "yellow-office",
   "metadata": {},
   "outputs": [
    {
     "data": {
      "text/plain": [
       "array([[14683,  3508,     0,  2774,  4138],\n",
       "       [ 4273, 14844,  3050,  1149,  4847],\n",
       "       [    0,  1937, 32959,     0,  4267],\n",
       "       [10850,  2338,     0,  3548,     0],\n",
       "       [ 1275,  2241, 11738,   282, 15299]], dtype=int64)"
      ]
     },
     "execution_count": 46,
     "metadata": {},
     "output_type": "execute_result"
    }
   ],
   "source": [
    "confusion_matrix(y_test,y_predlr)"
   ]
  },
  {
   "cell_type": "code",
   "execution_count": 47,
   "id": "cooked-torture",
   "metadata": {},
   "outputs": [
    {
     "name": "stdout",
     "output_type": "stream",
     "text": [
      "1.0\n"
     ]
    }
   ],
   "source": [
    "from sklearn import tree\n",
    "clf=tree.DecisionTreeClassifier()\n",
    "clf.fit(x_train,y_train)\n",
    "y_preddt=clf.predict(x_test)\n",
    "from sklearn.metrics import accuracy_score\n",
    "print(accuracy_score(y_test,y_preddt))"
   ]
  },
  {
   "cell_type": "code",
   "execution_count": 48,
   "id": "flexible-seattle",
   "metadata": {},
   "outputs": [
    {
     "name": "stdout",
     "output_type": "stream",
     "text": [
      "23218     0\n",
      "20731     1\n",
      "39555     4\n",
      "147506    3\n",
      "314215    1\n",
      "         ..\n",
      "362985    4\n",
      "124599    1\n",
      "291845    3\n",
      "365050    2\n",
      "138199    0\n",
      "Name: side_effects, Length: 140000, dtype: int32 [0 1 4 ... 3 2 0]\n"
     ]
    }
   ],
   "source": [
    "y_pred=clf.predict(x_test)\n",
    "print(y_test, y_preddt)"
   ]
  },
  {
   "cell_type": "code",
   "execution_count": 49,
   "id": "advisory-license",
   "metadata": {},
   "outputs": [],
   "source": [
    "from sklearn.model_selection import train_test_split\n",
    "x_train, x_test, y_train, y_test = train_test_split(x, y, test_size=0.35, random_state=42)"
   ]
  },
  {
   "cell_type": "code",
   "execution_count": 53,
   "id": "bacterial-invite",
   "metadata": {},
   "outputs": [
    {
     "name": "stdout",
     "output_type": "stream",
     "text": [
      "Accuracy: 1.0\n"
     ]
    }
   ],
   "source": [
    "from sklearn.ensemble import RandomForestClassifier\n",
    "rf=RandomForestClassifier()\n",
    "rf.fit(x_train,y_train.values.ravel())\n",
    "y_predrf=rf.predict(x_test)\n",
    "from sklearn import metrics\n",
    "print(\"Accuracy:\",metrics.accuracy_score(y_test, y_predrf))"
   ]
  },
  {
   "cell_type": "code",
   "execution_count": 52,
   "id": "indian-collaboration",
   "metadata": {},
   "outputs": [
    {
     "data": {
      "text/plain": [
       "1.0"
      ]
     },
     "execution_count": 52,
     "metadata": {},
     "output_type": "execute_result"
    }
   ],
   "source": [
    "accuracy_score(y_test,y_predrf)"
   ]
  },
  {
   "cell_type": "code",
   "execution_count": 54,
   "id": "fifty-ethnic",
   "metadata": {},
   "outputs": [],
   "source": [
    "#Feature Importance in Random Forest"
   ]
  },
  {
   "cell_type": "code",
   "execution_count": 55,
   "id": "going-crack",
   "metadata": {},
   "outputs": [
    {
     "data": {
      "image/png": "[encoded data removed]",
      "text/plain": [
       "<Figure size 432x288 with 1 Axes>"
      ]
     },
     "metadata": {
      "needs_background": "light"
     },
     "output_type": "display_data"
    }
   ],
   "source": [
    "important_features = pd.DataFrame({'Features': x_train.columns, \n",
    "                                   'Importance': rf.feature_importances_})\n",
    "\n",
    "# sort the dataframe in the descending order according to the feature importance\n",
    "important_features = important_features.sort_values('Importance', ascending = False)\n",
    "\n",
    "# create a barplot to visualize the features based on their importance\n",
    "sns.barplot(x = 'Importance', y = 'Features', data = important_features[0:20])\n",
    "\n",
    "# add plot and axes labels\n",
    "# set text size using 'fontsize'\n",
    "plt.title('Feature Importance - RFC', fontsize = 15)\n",
    "plt.xlabel('Importance', fontsize = 15)\n",
    "plt.ylabel('Features', fontsize = 15)\n",
    "\n",
    "# display the plot\n",
    "plt.show()"
   ]
  },
  {
   "cell_type": "code",
   "execution_count": 56,
   "id": "solar-hammer",
   "metadata": {},
   "outputs": [],
   "source": [
    "# Hyperparameter tuning of random forest"
   ]
  },
  {
   "cell_type": "code",
   "execution_count": null,
   "id": "dominant-teaching",
   "metadata": {},
   "outputs": [],
   "source": [
    "from sklearn.ensemble import RandomForestClassifier\n",
    "rfh = RandomForestClassifier(max_depth=7, max_features=4, min_samples_leaf=2,\n",
    "                      min_samples_split=5, n_estimators=1500, n_jobs=1,\n",
    "                      random_state=42)\n",
    "rfh.fit(x_train, y_train)\n"
   ]
  },
  {
   "cell_type": "code",
   "execution_count": null,
   "id": "virtual-alcohol",
   "metadata": {},
   "outputs": [],
   "source": [
    "y_predrfh=rfh.predict(x_test)"
   ]
  },
  {
   "cell_type": "code",
   "execution_count": 59,
   "id": "knowing-growth",
   "metadata": {},
   "outputs": [
    {
     "data": {
      "text/plain": [
       "0.6173428571428572"
      ]
     },
     "execution_count": 59,
     "metadata": {},
     "output_type": "execute_result"
    }
   ],
   "source": [
    "accuracy_score(y_test,y_predrfh)"
   ]
  },
  {
   "cell_type": "code",
   "execution_count": 67,
   "id": "prospective-opera",
   "metadata": {},
   "outputs": [
    {
     "data": {
      "text/plain": [
       "array([[15321,  6197,  1398,  2187,     0],\n",
       "       [ 4397, 15098,  3972,   579,  4117],\n",
       "       [  422,  1431, 35180,     0,  2130],\n",
       "       [ 6681,  1204,   179,  8672,     0],\n",
       "       [ 1593,  5501, 11491,    93, 12157]], dtype=int64)"
      ]
     },
     "execution_count": 67,
     "metadata": {},
     "output_type": "execute_result"
    }
   ],
   "source": [
    "confusion_matrix(y_test,y_predrfh)"
   ]
  },
  {
   "cell_type": "code",
   "execution_count": 68,
   "id": "gross-mexican",
   "metadata": {},
   "outputs": [
    {
     "name": "stdout",
     "output_type": "stream",
     "text": [
      "Weighted f1 score:0.61\n"
     ]
    }
   ],
   "source": [
    "print('Weighted f1 score:{:.2f}'.format(f1_score(y_test,y_predrfh,average='weighted')))"
   ]
  },
  {
   "cell_type": "code",
   "execution_count": null,
   "id": "advanced-information",
   "metadata": {},
   "outputs": [],
   "source": []
  }
 ],
 "metadata": {
  "kernelspec": {
   "display_name": "Python 3",
   "language": "python",
   "name": "python3"
  },
  "language_info": {
   "codemirror_mode": {
    "name": "ipython",
    "version": 3
   },
   "file_extension": ".py",
   "mimetype": "text/x-python",
   "name": "python",
   "nbconvert_exporter": "python",
   "pygments_lexer": "ipython3",
   "version": "3.8.5"
  }
 },
 "nbformat": 4,
 "nbformat_minor": 5
}
